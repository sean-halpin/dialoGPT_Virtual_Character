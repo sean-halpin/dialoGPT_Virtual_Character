{
  "nbformat": 4,
  "nbformat_minor": 0,
  "metadata": {
    "colab": {
      "name": "personal_token_replacement.ipynb",
      "provenance": [],
      "authorship_tag": "ABX9TyM7fAFv/E4ApSK8iPmad6ed",
      "include_colab_link": true
    },
    "kernelspec": {
      "name": "python3",
      "display_name": "Python 3"
    },
    "language_info": {
      "name": "python"
    }
  },
  "cells": [
    {
      "cell_type": "markdown",
      "metadata": {
        "id": "view-in-github",
        "colab_type": "text"
      },
      "source": [
        "<a href=\"https://colab.research.google.com/github/sean-halpin/dialoGPT_Virtual_Character/blob/main/personal_token_replacement.ipynb\" target=\"_parent\"><img src=\"https://colab.research.google.com/assets/colab-badge.svg\" alt=\"Open In Colab\"/></a>"
      ]
    },
    {
      "cell_type": "code",
      "execution_count": null,
      "metadata": {
        "id": "E9fnuDewzqOx"
      },
      "outputs": [],
      "source": [
        "!pip install transformers"
      ]
    },
    {
      "cell_type": "code",
      "source": [
        "from transformers import pipeline\n",
        "classifier = pipeline(\"zero-shot-classification\",\n",
        "                      model=\"facebook/bart-large-mnli\")\n"
      ],
      "metadata": {
        "id": "oCPcmHOR0vlg"
      },
      "execution_count": null,
      "outputs": []
    },
    {
      "cell_type": "code",
      "source": [
        "sequence_to_classify = \"What age are you?\"\n",
        "candidate_labels = ['age inquiry', 'job inquiry', 'name inquiry', 'statement', 'personal detail']\n",
        "class_result = classifier(sequence_to_classify, candidate_labels)"
      ],
      "metadata": {
        "id": "sG7Z0dIw0wnA"
      },
      "execution_count": null,
      "outputs": []
    },
    {
      "cell_type": "code",
      "source": [
        "print(class_result)\n",
        "print(class_result['labels'][0])\n",
        "print(class_result['scores'][0])"
      ],
      "metadata": {
        "id": "LPKQb2Be1LHQ"
      },
      "execution_count": null,
      "outputs": []
    },
    {
      "cell_type": "code",
      "source": [
        "persona = {\n",
        "    \"age inquiry\": \"44\"\n",
        "}"
      ],
      "metadata": {
        "id": "TZ4QzCEY1R3I"
      },
      "execution_count": null,
      "outputs": []
    },
    {
      "cell_type": "code",
      "source": [
        "dialog_output = \"I am 10 years of age\""
      ],
      "metadata": {
        "id": "N2LeG68rNfh4"
      },
      "execution_count": null,
      "outputs": []
    },
    {
      "cell_type": "code",
      "source": [
        "!pip install flair"
      ],
      "metadata": {
        "id": "T3lhGnaP11EM"
      },
      "execution_count": null,
      "outputs": []
    },
    {
      "cell_type": "code",
      "source": [
        "from flair.data import Sentence\n",
        "from flair.models import SequenceTagger\n",
        "\n",
        "# load tagger\n",
        "tagger = SequenceTagger.load(\"flair/ner-english-ontonotes-fast\")"
      ],
      "metadata": {
        "id": "52oB25du1ttv"
      },
      "execution_count": null,
      "outputs": []
    },
    {
      "cell_type": "code",
      "source": [
        "# make example sentence\n",
        "sentence = Sentence(dialog_output)\n",
        "# predict NER tags\n",
        "tagger.predict(sentence)\n",
        "# print sentence\n",
        "print(sentence)\n",
        "\n",
        "# print predicted NER spans\n",
        "print('The following NER tags are found:')\n",
        "# iterate over entities and print\n",
        "for entity in sentence.get_spans('ner'):\n",
        "    print(entity)"
      ],
      "metadata": {
        "id": "mw219c6h1z5Y"
      },
      "execution_count": null,
      "outputs": []
    },
    {
      "cell_type": "code",
      "source": [
        "dialog_outputner_tags = sentence.to_dict(tag_type='ner')"
      ],
      "metadata": {
        "id": "p8TEIqmA2sLJ"
      },
      "execution_count": null,
      "outputs": []
    },
    {
      "cell_type": "code",
      "source": [
        "ner_tags['entities']"
      ],
      "metadata": {
        "id": "khtXdeEQ3A_Z"
      },
      "execution_count": null,
      "outputs": []
    },
    {
      "cell_type": "code",
      "source": [
        "sentence.to_dict()"
      ],
      "metadata": {
        "id": "aZt4HAlg3JVK"
      },
      "execution_count": null,
      "outputs": []
    },
    {
      "cell_type": "code",
      "source": [
        "!pip install word2number"
      ],
      "metadata": {
        "id": "U6IqOthpHZYo"
      },
      "execution_count": null,
      "outputs": []
    },
    {
      "cell_type": "code",
      "source": [
        "import inflect\n",
        "p = inflect.engine()"
      ],
      "metadata": {
        "id": "6Fd3Uzyq4Gxq"
      },
      "execution_count": null,
      "outputs": []
    },
    {
      "cell_type": "code",
      "source": [
        "from word2number import w2n"
      ],
      "metadata": {
        "id": "PU4aM1TtHXVm"
      },
      "execution_count": null,
      "outputs": []
    },
    {
      "cell_type": "code",
      "source": [
        "for t in sentence.get_spans()[0].tokens:\n",
        "  try:\n",
        "    if t.text.isnumeric() or w2n.word_to_num(t.text).isnumeric():\n",
        "      print(t.text)\n",
        "      print(p.number_to_words(t.text))\n",
        "      print(t.idx)\n",
        "  except:\n",
        "    a=0"
      ],
      "metadata": {
        "id": "6IKjP_uv3zri"
      },
      "execution_count": null,
      "outputs": []
    },
    {
      "cell_type": "code",
      "source": [
        "tkns = []\n",
        "for t in sentence.tokens:\n",
        "  tkns.append(t.text)"
      ],
      "metadata": {
        "id": "HaskPr7qPIXe"
      },
      "execution_count": null,
      "outputs": []
    },
    {
      "cell_type": "code",
      "source": [
        "tkns[2] = persona['age inquiry']"
      ],
      "metadata": {
        "id": "W6S9L3eZPWCR"
      },
      "execution_count": null,
      "outputs": []
    },
    {
      "cell_type": "code",
      "source": [
        "out = \" \".join(tkns)"
      ],
      "metadata": {
        "id": "pzd4K0ywONU-"
      },
      "execution_count": null,
      "outputs": []
    },
    {
      "cell_type": "code",
      "source": [
        "print(out)"
      ],
      "metadata": {
        "id": "p30HHVdoPT6k"
      },
      "execution_count": null,
      "outputs": []
    },
    {
      "cell_type": "code",
      "source": [
        ""
      ],
      "metadata": {
        "id": "NC9uBmfIGo2U"
      },
      "execution_count": null,
      "outputs": []
    }
  ]
}